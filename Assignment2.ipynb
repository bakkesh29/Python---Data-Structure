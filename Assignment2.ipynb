{
  "nbformat": 4,
  "nbformat_minor": 0,
  "metadata": {
    "colab": {
      "provenance": []
    },
    "kernelspec": {
      "name": "python3",
      "display_name": "Python 3"
    },
    "language_info": {
      "name": "python"
    }
  },
  "cells": [
    {
      "cell_type": "markdown",
      "source": [
        "#  **Theory Questions**"
      ],
      "metadata": {
        "id": "lQwyXQG7_SlS"
      }
    },
    {
      "cell_type": "markdown",
      "source": [
        "# Q1. What are data structures, and why are they important ?\n",
        "-> Data structures are ways to organize and store data in a computer so that it can be used efficiently.\n",
        "\n",
        "> Why are they important?\n",
        "* They help programs store data properly\n",
        "* Make it easier and faster to access, search, and modify data\n",
        "* Without good data structures, programs would be slow and complicated\n",
        "* They form the foundation for algorithms and solving real-world problems"
      ],
      "metadata": {
        "id": "KiCFVYm8ijVQ"
      }
    },
    {
      "cell_type": "markdown",
      "source": [
        "# Q2. Explain the difference between mutable and immutable data types with examples?\n",
        "-> Mutable data types are those whose values can be changed after they are created.\n",
        "\n",
        "Immutable data types are those whose values cannot be changed once created.\n",
        "\n",
        "---\n",
        "\n",
        "### Example:\n",
        "\n"
      ],
      "metadata": {
        "id": "FLj5nnC-ilVx"
      }
    },
    {
      "cell_type": "code",
      "source": [
        "# Mutable example\n",
        "numbers = [4, 5, 6]\n",
        "numbers[1] = 50  # Works fine\n",
        "print(\"Mutable list after change:\", numbers)  # Output: [4, 50, 6]\n",
        "\n",
        "# Immutable example\n",
        "city = \"delhi\"\n",
        "try:\n",
        "    city[0] = \"D\"  # Error! Strings are immutable\n",
        "except TypeError as e:\n",
        "    print(\"Error:\", e)"
      ],
      "metadata": {
        "colab": {
          "base_uri": "https://localhost:8080/"
        },
        "id": "DmSuIcOVI2nL",
        "outputId": "0254b4d4-8e82-456b-83f2-a007f1d47da3"
      },
      "execution_count": null,
      "outputs": [
        {
          "output_type": "stream",
          "name": "stdout",
          "text": [
            "Mutable list after change: [4, 50, 6]\n",
            "Error: 'str' object does not support item assignment\n"
          ]
        }
      ]
    },
    {
      "cell_type": "markdown",
      "source": [
        "# Q3. What are the main differences between lists and tuples in Python?\n",
        "->\n",
        "\n",
        "| Feature        | List                        | Tuple                         |\n",
        "|----------------|-----------------------------|-------------------------------|\n",
        "| **Mutability** | Mutable (can be changed)    | Immutable (cannot be changed) |\n",
        "| **Syntax**     | Square brackets: `[1, 2, 3]` | Parentheses: `(1, 2, 3)`      |\n",
        "| **Performance**| Slower (due to mutability) | Faster (immutable)             |\n",
        "| **Methods**    | Many built-in methods (e.g., `append`, `remove`) | Fewer methods available       |\n",
        "| **Use Case**   | Use when data needs to change | Use when data is fixed or constant |\n",
        "\n",
        "---\n",
        "\n",
        "### Example:\n"
      ],
      "metadata": {
        "id": "09pR56henB4W"
      }
    },
    {
      "cell_type": "code",
      "source": [
        "# List example\n",
        "scores = [15, 25, 35]\n",
        "scores[1] = 100  # Works fine\n",
        "\n",
        "# Tuple example\n",
        "ids = (15, 25, 35)\n",
        "# ids[1] = 100  # Error: tuples cannot be changed"
      ],
      "metadata": {
        "id": "esLi8LstJACo"
      },
      "execution_count": null,
      "outputs": []
    },
    {
      "cell_type": "markdown",
      "source": [
        "# Q4. Describe how dictionaries store data.\n",
        "\n",
        "- A **dictionary** stores data as **key-value pairs**.\n",
        "- Each **key** is unique and is used to access its corresponding **value**.\n",
        "- Dictionaries are **mutable**, so you can add, update, or remove items.\n",
        "- Internally, dictionaries use a **hash table** for fast lookups.\n",
        "\n",
        "---\n",
        "\n",
        "### Example:\n",
        "\n",
        "\n"
      ],
      "metadata": {
        "id": "eATO_7kdpa-k"
      }
    },
    {
      "cell_type": "code",
      "source": [
        "# Creating a dictionary\n",
        "employee = {\n",
        "    \"name\": \"Bakkesh\",\n",
        "    \"age\": 23,\n",
        "    \"department\": \"IT\"\n",
        "}\n",
        "\n",
        "# Accessing data\n",
        "print(employee[\"name\"])  # Output: Bakkesh\n",
        "\n",
        "# Adding new key-value pair\n",
        "employee[\"level\"] = \"Senior\"\n",
        "\n",
        "# Updating value\n",
        "employee[\"age\"] = 24"
      ],
      "metadata": {
        "colab": {
          "base_uri": "https://localhost:8080/"
        },
        "id": "mJqH00yCIdHW",
        "outputId": "3aed2748-e8b9-4842-d48f-f5331a48297d"
      },
      "execution_count": null,
      "outputs": [
        {
          "output_type": "stream",
          "name": "stdout",
          "text": [
            "Bakkesh\n"
          ]
        }
      ]
    },
    {
      "cell_type": "markdown",
      "source": [
        "# Q5. Why might you use a set instead of a list in Python?\n",
        "\n",
        "- **Sets** are collections of **unique** elements, they automatically remove duplicates.\n",
        "- They are **unordered**, so elements don’t have a specific position.\n",
        "- Sets provide **faster membership testing** (`in` operator) compared to lists.\n",
        "- Useful when you want to **eliminate duplicates** or perform mathematical operations like **union, intersection, difference**.\n",
        "\n",
        "---\n",
        "\n",
        "### Example:\n",
        "\n",
        "```python\n"
      ],
      "metadata": {
        "id": "3IEmvbkhrzjz"
      }
    },
    {
      "cell_type": "code",
      "source": [
        "# List with duplicates\n",
        "numbers = [10, 20, 20, 30, 40, 40, 50]\n",
        "\n",
        "# Convert to set to remove duplicates\n",
        "unique_numbers = set(numbers)\n",
        "print(unique_numbers)  # Output: {40, 10, 50, 20, 30}\n",
        "\n",
        "# Membership test\n",
        "print(25 in unique_numbers)  # False\n"
      ],
      "metadata": {
        "colab": {
          "base_uri": "https://localhost:8080/"
        },
        "id": "oWWfrBB0JL1d",
        "outputId": "1b1bfc6e-c17a-458a-cf2f-f9e09fd47fcb"
      },
      "execution_count": null,
      "outputs": [
        {
          "output_type": "stream",
          "name": "stdout",
          "text": [
            "{40, 10, 50, 20, 30}\n",
            "False\n"
          ]
        }
      ]
    },
    {
      "cell_type": "markdown",
      "source": [
        "# Q6. What is a string in Python, and how is it different from a list?\n",
        "\n",
        "- A **string** is a sequence of characters enclosed in quotes (`' '` or `\" \"`).\n",
        "- Strings are **immutable**, meaning once created, their content cannot be changed.\n",
        "- Strings are used to represent text data.\n",
        "\n",
        "---\n",
        "\n",
        "# Difference Between String and List\n",
        "\n",
        "| Feature           |    String                            | List                           |\n",
        "|-------------------|---------------------------------|--------------------------------|\n",
        "| **Data Type**     |  Sequence of characters           | Sequence of any data types      |\n",
        "| **Mutability**    | Immutable (cannot change items)  | Mutable (items can be changed)  |\n",
        "| **Syntax**        | `'hello'` or `\"hello\"`           | `[1, 2, 3]`, `['a', 'b', 'c']` |\n",
        "| **Operations**    | Supports string-specific methods like `.upper()`, `.split()` | Supports methods like `.append()`, `.remove()` |\n",
        "| **Usage**         | Used for text                    | Used for collections of items   |\n",
        "\n",
        "---\n",
        "\n",
        "### Example:\n",
        "\n",
        "```python\n"
      ],
      "metadata": {
        "id": "Xsx7gQdpspal"
      }
    },
    {
      "cell_type": "code",
      "source": [
        "# String example\n",
        "greeting = \"World\"\n",
        "# greeting[0] = \"w\"  # Error: strings are immutable\n",
        "\n",
        "# List example\n",
        "letters = ['W', 'o', 'r', 'l', 'd']\n",
        "letters[0] = 'w'   # Works fine\n",
        "print(letters)     # Output: ['w', 'o', 'r', 'l', 'd']\n"
      ],
      "metadata": {
        "colab": {
          "base_uri": "https://localhost:8080/"
        },
        "id": "VjHjbo6nJT4J",
        "outputId": "accc9154-7bb8-41b1-9167-09e843ce520e"
      },
      "execution_count": null,
      "outputs": [
        {
          "output_type": "stream",
          "name": "stdout",
          "text": [
            "['w', 'o', 'r', 'l', 'd']\n"
          ]
        }
      ]
    },
    {
      "cell_type": "markdown",
      "source": [
        "# Q7. How do tuples ensure data integrity in Python?\n",
        "- Tuples are **immutable**, which means once a tuple is created, its contents **cannot be changed**.\n",
        "- This immutability **protects the data** from accidental modification or deletion.\n",
        "- Because tuples cannot be altered, they are safer to use for **fixed data** that should not be modified.\n",
        "- This helps in maintaining **data integrity** especially when passing data between functions or modules.\n",
        "- Tuples can also be used as **keys in dictionaries** because they are immutable.\n",
        "\n",
        "---\n",
        "\n",
        "### Example:\n",
        "\n"
      ],
      "metadata": {
        "id": "6ouxAvp-t1p7"
      }
    },
    {
      "cell_type": "code",
      "source": [
        "my_tuple = (5, 15, 25)\n",
        "# my_tuple[1] = 50  # Error: tuples cannot be changed\n",
        "\n",
        "print(my_tuple)  # Output: (5, 15, 25)\n"
      ],
      "metadata": {
        "colab": {
          "base_uri": "https://localhost:8080/"
        },
        "id": "s5Dc4-yeJelr",
        "outputId": "ec6e2180-3527-47d2-f730-ab2135107665"
      },
      "execution_count": null,
      "outputs": [
        {
          "output_type": "stream",
          "name": "stdout",
          "text": [
            "(5, 15, 25)\n"
          ]
        }
      ]
    },
    {
      "cell_type": "markdown",
      "source": [
        "# Q8. What is a hash table, and how does it relate to dictionaries in Python?\n",
        "- A **hash table** is a data structure that stores **key-value pairs**.\n",
        "- It uses a **hash function** to compute an index (called a hash) into an array, where the value is stored.\n",
        "- This allows **fast data lookup, insertion, and deletion**, usually in constant time O(1).\n",
        "\n",
        "---\n",
        "\n",
        "## How Does It Relate to Python Dictionaries?\n",
        "\n",
        "- Python dictionaries are implemented using **hash tables** internally.\n",
        "- When you use a dictionary, Python computes the hash of the key and stores the value at that position.\n",
        "- This is why dictionary operations like `dict[key]` are very fast.\n",
        "- Keys in dictionaries must be **hashable** (immutable data types like strings, numbers, tuples).\n",
        "\n",
        "---\n",
        "\n",
        "### Example:\n",
        "\n",
        "```python\n"
      ],
      "metadata": {
        "id": "a7SsYZ9GuRvA"
      }
    },
    {
      "cell_type": "code",
      "source": [
        "my_tuple = (12, 24, 36)\n",
        "# my_tuple[2] = 99  # Error: tuples cannot be changed\n",
        "\n",
        "print(my_tuple)  # Output: (12, 24, 36)\n"
      ],
      "metadata": {
        "colab": {
          "base_uri": "https://localhost:8080/"
        },
        "id": "F95lPkVkJsMy",
        "outputId": "6fdca107-6528-4624-adfc-19f5508a32bb"
      },
      "execution_count": null,
      "outputs": [
        {
          "output_type": "stream",
          "name": "stdout",
          "text": [
            "(12, 24, 36)\n"
          ]
        }
      ]
    },
    {
      "cell_type": "markdown",
      "source": [
        "# Q9. Can lists contain different data types in Python?\n",
        "- Yes, **lists in Python can contain elements of different data types**.\n",
        "- A single list can have **integers, strings, floats, booleans**, and even other lists or objects.\n",
        "- This makes lists very flexible and useful for storing mixed data.\n",
        "\n",
        "---\n",
        "\n",
        "### Example:\n",
        "\n",
        "```python\n"
      ],
      "metadata": {
        "id": "u9wKDy5VvxAU"
      }
    },
    {
      "cell_type": "code",
      "source": [
        "my_list = [25, \"world\", 2.71, False, [\"a\", \"b\", \"c\"]]\n",
        "\n",
        "print(my_list)\n",
        "# Output: [25, 'world', 2.71, False, ['a', 'b', 'c']]\n"
      ],
      "metadata": {
        "colab": {
          "base_uri": "https://localhost:8080/"
        },
        "id": "3EH-ClX-Jy5C",
        "outputId": "04f14332-703d-4284-8ec6-e089df4886d0"
      },
      "execution_count": null,
      "outputs": [
        {
          "output_type": "stream",
          "name": "stdout",
          "text": [
            "[25, 'world', 2.71, False, ['a', 'b', 'c']]\n"
          ]
        }
      ]
    },
    {
      "cell_type": "markdown",
      "source": [
        "# Q10. Explain why strings are immutable in Python?\n",
        "\n",
        "- Strings are **immutable**, meaning once created, their contents **cannot be changed**.\n",
        "- This design choice helps Python to:\n",
        "  - **Optimize memory usage** by allowing string reuse (string interning).\n",
        "  - **Make strings thread-safe** (safe to use in multiple parts of a program without unintended changes).\n",
        "  - **Prevent bugs** by avoiding accidental changes to string data.\n",
        "- When you modify a string, Python actually **creates a new string** instead of changing the original.\n",
        "\n",
        "---\n",
        "\n",
        "### Example:\n",
        "\n",
        "```python\n",
        "\n"
      ],
      "metadata": {
        "id": "bmNjt5s-wknb"
      }
    },
    {
      "cell_type": "code",
      "source": [
        "s = \"world\"\n",
        "# s[0] = \"W\"  # Error: strings are immutable\n",
        "\n",
        "# To change, create a new string\n",
        "s_new = \"W\" + s[1:]\n",
        "print(s_new)  # Output: World\n"
      ],
      "metadata": {
        "colab": {
          "base_uri": "https://localhost:8080/"
        },
        "id": "8QE36FTNKDSX",
        "outputId": "eb6c7987-9282-46e5-b5aa-642b8d4da8ec"
      },
      "execution_count": null,
      "outputs": [
        {
          "output_type": "stream",
          "name": "stdout",
          "text": [
            "World\n"
          ]
        }
      ]
    },
    {
      "cell_type": "markdown",
      "source": [
        "# Q11. What advantages do dictionaries offer over lists for certain tasks?\n",
        "\n",
        "- **Fast Lookup:**  \n",
        "  Dictionaries provide **fast access** to values using keys (usually in constant time O(1)), while lists require searching through elements (O(n)).\n",
        "\n",
        "- **Key-Value Pair Storage:**  \n",
        "  Dictionaries store data as **key-value pairs**, making it easy to represent relationships (like a person's name and age), whereas lists store ordered items without keys.\n",
        "\n",
        "- **Uniqueness of Keys:**  \n",
        "  Keys in dictionaries are **unique**, preventing duplicate entries for the same key.\n",
        "\n",
        "- **Flexible Data Access:**  \n",
        "  You can access data directly by key rather than by position or index.\n",
        "\n",
        "---\n",
        "\n",
        "### Example:\n",
        "\n",
        "```python\n",
        "# List example (search needed to find value)\n",
        "names = [\"Alice\", \"Bob\", \"Charlie\"]\n",
        "# To find Bob's position, you need to search the list\n",
        "\n",
        "# Dictionary example (direct access)\n",
        "ages = {\"Alice\": 25, \"Bob\": 30, \"Charlie\": 20}\n",
        "print(ages[\"Bob\"])  # Output: 30\n"
      ],
      "metadata": {
        "id": "eDD6qsDdxLfi"
      }
    },
    {
      "cell_type": "markdown",
      "source": [
        "# Q12. Describe a scenario where using a tuple would be preferable over a list.\n",
        "**When to Use a Tuple:**  \n",
        "A tuple is preferable when you want to store **fixed, unchangeable data** that should remain constant throughout the program.\n",
        "\n",
        "---\n",
        "\n",
        "**Example Scenario:**  \n",
        "Storing **geographical coordinates** of a location.\n",
        "\n",
        "```python\n",
        "# Using a tuple for fixed coordinates\n",
        "location = (28.6139, 77.2090)  # Latitude, Longitude\n",
        "\n",
        "# location[0] = 29.0000  # This will cause an error (immutable)\n",
        "print(location)  # Output: (28.6139, 77.2090)\n"
      ],
      "metadata": {
        "id": "77HHFALw0pCO"
      }
    },
    {
      "cell_type": "markdown",
      "source": [
        "# Q13. How do sets handle duplicate values in Python?\n",
        "**Key Point:**  \n",
        "In Python, **sets automatically remove duplicates**.  \n",
        "They store only **unique elements** and ignore any repeated values.\n",
        "\n",
        "---\n",
        "\n",
        "**Example:**\n",
        "```python\n",
        "# Creating a set with duplicate values\n",
        "my_set = {1, 2, 2, 3, 3, 3}\n",
        "\n",
        "print(my_set)  # Output: {1, 2, 3}\n"
      ],
      "metadata": {
        "id": "UjObeMMC1gLY"
      }
    },
    {
      "cell_type": "markdown",
      "source": [
        "# Q14. How does the “in” keyword work differently for lists and dictionaries?\n",
        "- **In Lists:**  \n",
        "  `in` checks if the given element exists anywhere in the list.\n",
        "\n",
        "- **In Dictionaries:**  \n",
        "  `in` checks only if the given value exists as a **key**, not as a value.\n",
        "``` python\n",
        "  # Example for list\n",
        "my_list = [1, 2, 3]\n",
        "print(2 in my_list)   # True\n",
        "print(5 in my_list)   # False\n",
        "# Example for dictionary\n",
        "my_dict = {\"a\": 1, \"b\": 2}\n",
        "print(\"a\" in my_dict)         # True (key exists)\n",
        "print(1 in my_dict)           # False (1 is a value, not a key)\n",
        "print(1 in my_dict.values())  # True (checks in values)\n",
        "\n",
        "\n",
        "\n"
      ],
      "metadata": {
        "id": "NbBGV_Sm1_yK"
      }
    },
    {
      "cell_type": "markdown",
      "source": [
        "# Q15. Can you modify the elements of a tuple? Explain why or why not?\n",
        "No, you cannot modify the elements of a tuple in Python because **tuples are immutable**.  \n",
        "Once a tuple is created, its elements cannot be changed, added, or removed.  \n",
        "This immutability makes tuples useful for storing fixed data that should not change during program execution.\n",
        "\n",
        "**Example:**\n",
        "\n",
        "```python\n",
        "# Creating a tuple\n",
        "my_tuple = (10, 20, 30)\n",
        "\n",
        "# Trying to change an element\n",
        "try:\n",
        "    my_tuple[0] = 100  #  This will raise an error\n",
        "except TypeError as e:\n",
        "    print(\"Error:\", e)\n"
      ],
      "metadata": {
        "id": "FNxOD9DM5Wse"
      }
    },
    {
      "cell_type": "markdown",
      "source": [
        "# Q16. What is a nested dictionary, and give an example of its use case?\n",
        "###  Definition:\n",
        "- A **nested dictionary** in Python is a dictionary inside another dictionary.\n",
        "- It is used to store **complex and structured data** in a hierarchical form.\n",
        "\n",
        "---\n",
        "\n",
        "### 🔹 Key Points:\n",
        "- Allows data to be grouped together logically.\n",
        "- Useful for representing data that has **multiple levels** (e.g., students with subject marks, company with departments and employees).\n",
        "- Access data using **multiple keys**.\n",
        "\n",
        "---\n",
        "\n",
        "###  Example: Student Information\n",
        "```python\n",
        "# Creating a nested dictionary\n",
        "students = {\n",
        "    \"student1\": {\"name\": \"Alice\", \"age\": 20, \"marks\": {\"Math\": 90, \"Science\": 85}},\n",
        "    \"student2\": {\"name\": \"Bob\", \"age\": 21, \"marks\": {\"Math\": 78, \"Science\": 88}}\n",
        "}\n",
        "\n",
        "# Accessing nested values\n",
        "print(students[\"student1\"][\"name\"])       # Output: Alice\n",
        "print(students[\"student1\"][\"marks\"][\"Math\"])  # Output: 90\n",
        "\n",
        "# Modifying a value in nested dictionary\n",
        "students[\"student2\"][\"marks\"][\"Science\"] = 92\n",
        "\n",
        "print(students)\n"
      ],
      "metadata": {
        "id": "dfT7FBhN564d"
      }
    },
    {
      "cell_type": "markdown",
      "source": [
        "# Q17.Describe the time complexity of accessing elements in a dictionary?\n",
        "\n",
        "###  Definition:\n",
        "- In Python, a **dictionary** is implemented using a **hash table**.\n",
        "- Each key is hashed to determine where its value is stored in memory.\n",
        "- This makes element access **very fast**.\n",
        "\n",
        "---\n",
        "\n",
        "###  Time Complexity:\n",
        "- **Average Case**: `O(1)` → Constant time  \n",
        "   Reason: Hashing allows direct access to the value using its key.\n",
        "- **Worst Case**: `O(n)` → Linear time  \n",
        "   Reason: Can happen if **hash collisions** occur and all keys fall into the same bucket (rare in Python's implementation).\n",
        "\n",
        "---\n",
        "\n",
        "###  Example:\n",
        "```python\n",
        "# Creating a dictionary\n",
        "my_dict = {\"a\": 10, \"b\": 20, \"c\": 30}\n",
        "\n",
        "# Accessing elements\n",
        "print(my_dict[\"a\"])  # O(1) operation\n",
        "print(my_dict[\"c\"])  # O(1) operation\n",
        "\n"
      ],
      "metadata": {
        "id": "AHFrwMBY6XHf"
      }
    },
    {
      "cell_type": "markdown",
      "source": [
        "# Q18. In what situations are lists preferred over dictionaries?\n",
        "\n",
        "###  When to Prefer Lists:\n",
        "1. **Order Matters**  \n",
        "   - Lists maintain the order of elements by index.\n",
        "   - Useful when you need to process items in a specific sequence.\n",
        "\n",
        "2. **No Need for Key-Value Pairs**  \n",
        "   - If your data doesn't require unique keys and you just want to store values.\n",
        "\n",
        "3. **Duplicate Values Are Allowed**  \n",
        "   - Lists can store the same value multiple times, unlike sets or dictionary keys.\n",
        "\n",
        "4. **Index-Based Access is Needed**  \n",
        "   - You can access elements directly using their index (e.g., `my_list[0]`).\n",
        "\n",
        "---\n",
        "\n",
        "###  Example:\n",
        "```python\n",
        "# Example where list is preferred\n",
        "# Storing marks of students in order of roll numbers\n",
        "student_marks = [85, 90, 78, 92, 88]\n",
        "\n",
        "# Accessing marks of 3rd student (roll number 3)\n",
        "print(\"Marks of student with roll no 3:\", student_marks[2])\n",
        "\n",
        "# Adding a new student's marks\n",
        "student_marks.append(95)\n",
        "\n",
        "# Display updated list\n",
        "print(\"Updated Marks List:\", student_marks)\n"
      ],
      "metadata": {
        "id": "xWGZcASj6zen"
      }
    },
    {
      "cell_type": "markdown",
      "source": [
        "# Q19. Why are dictionaries considered unordered, and how does that affect data retrieval ?\n",
        "###  Explanation:\n",
        "- **Before Python 3.7**: Dictionaries did **not** preserve the order of insertion, meaning the order of items could appear random.\n",
        "- **From Python 3.7 onwards**: Dictionaries preserve insertion order, but **conceptually** they are still **unordered collections**, because:\n",
        "  - Access to values is based on **keys** (hashing), not position.\n",
        "  - You **cannot rely** on indexes like lists (`dict[0]` is invalid).\n",
        "  \n",
        "###  Effect on Data Retrieval:\n",
        "1. **No Index-Based Access**  \n",
        "   - Retrieval happens through keys, not positions.\n",
        "   \n",
        "2. **Fast Access Using Keys**  \n",
        "   - Average time complexity for lookup is **O(1)** because of hash table implementation.\n",
        "   \n",
        "3. **Iteration Order May Not Matter**  \n",
        "   - If your program logic depends on data order, a dictionary might not be suitable unless you explicitly maintain order.\n",
        "\n",
        "---\n",
        "\n",
        "### Example:\n",
        "```python\n",
        "# Example: Dictionary (unordered concept)\n",
        "student_data = {\n",
        "    \"name\": \"Alice\",\n",
        "    \"age\": 21,\n",
        "    \"course\": \"Computer Science\"\n",
        "}\n",
        "\n",
        "# Access by key\n",
        "print(\"Student Name:\", student_data[\"name\"])\n",
        "print(\"Student Age:\", student_data[\"age\"])\n",
        "\n",
        "# Iterating over dictionary\n",
        "print(\"\\nDictionary Items:\")\n",
        "for key, value in student_data.items():\n",
        "    print(key, \":\", value)\n",
        "\n",
        "# Trying index access (will cause error)\n",
        "# print(student_data[0])  #  This will raise a KeyError\n"
      ],
      "metadata": {
        "id": "4vxzyBbE7NJn"
      }
    },
    {
      "cell_type": "markdown",
      "source": [
        "# Q20. Explain the difference between a list and a dictionary in terms of data retrieval.\n",
        "\n",
        "###  Explanation:\n",
        "| Feature                  | List                               | Dictionary                          |\n",
        "|--------------------------|------------------------------------|--------------------------------------|\n",
        "| **Access Method**        | By **index** (numeric position)    | By **key** (unique identifier)       |\n",
        "| **Data Structure**       | Ordered sequence of elements       | Key-value pairs                      |\n",
        "| **Lookup Speed**         | O(1) for direct index access, O(n) for searching by value | O(1) average for key lookup          |\n",
        "| **When to Use**          | When position/order matters        | When quick access via unique keys is needed |\n",
        "\n",
        "---\n",
        "\n",
        "###  Example:\n",
        "```python\n",
        "# List Example\n",
        "fruits = [\"apple\", \"banana\", \"cherry\"]\n",
        "print(\"Accessing list element at index 1:\", fruits[1])  # Index-based access\n",
        "\n",
        "# Dictionary Example\n",
        "fruit_colors = {\n",
        "    \"apple\": \"red\",\n",
        "    \"banana\": \"yellow\",\n",
        "    \"cherry\": \"dark red\"\n",
        "}\n",
        "print(\"Accessing dictionary element with key 'banana':\", fruit_colors[\"banana\"])  # Key-based access\n"
      ],
      "metadata": {
        "id": "Z1pVmv1P7lbx"
      }
    },
    {
      "cell_type": "markdown",
      "source": [
        "<center>\n",
        "\n",
        "#  **Practical Questions**\n",
        "### *| Hands-on practice |*\n",
        "\n",
        "</center>\n",
        "\n"
      ],
      "metadata": {
        "id": "c_gqSVYP8Q-V"
      }
    },
    {
      "cell_type": "code",
      "source": [
        "# Q1. Write a code to create a string with your name and print it\n",
        "\n",
        "name = \"Bakkesh\"\n",
        "\n",
        "print(name)\n",
        "\n"
      ],
      "metadata": {
        "colab": {
          "base_uri": "https://localhost:8080/"
        },
        "id": "nHcAwYZX9kVs",
        "outputId": "d1cc4dfe-d8a0-4fb9-ee3c-ae3a5a8ff4a4"
      },
      "execution_count": null,
      "outputs": [
        {
          "output_type": "stream",
          "name": "stdout",
          "text": [
            "Bakkesh\n"
          ]
        }
      ]
    },
    {
      "cell_type": "code",
      "source": [
        "# Q2. Write a code to find the length of the string \"Hello World\"\n",
        "\n",
        "text = \"Hello World\"\n",
        "\n",
        "length = len(text)\n",
        "\n",
        "print(\"Length of the string:\", length)"
      ],
      "metadata": {
        "colab": {
          "base_uri": "https://localhost:8080/"
        },
        "id": "6S8CcSZZ-eY2",
        "outputId": "a3a8e84b-f27c-4cdd-f249-d32d7cfa5c9c"
      },
      "execution_count": null,
      "outputs": [
        {
          "output_type": "stream",
          "name": "stdout",
          "text": [
            "Length of the string: 11\n"
          ]
        }
      ]
    },
    {
      "cell_type": "code",
      "source": [
        "# Q3.Write a code to slice the first 3 characters from the string \"Python Programming\".\n",
        "\n",
        "text = \"Python Programming\"\n",
        "\n",
        "first_three_chars = text[0:4]\n",
        "\n",
        "print(first_three_chars)"
      ],
      "metadata": {
        "colab": {
          "base_uri": "https://localhost:8080/"
        },
        "id": "5EkTq3JW_jpw",
        "outputId": "1769c385-f41e-46a6-f643-c57e04296210"
      },
      "execution_count": null,
      "outputs": [
        {
          "output_type": "stream",
          "name": "stdout",
          "text": [
            "Pyth\n"
          ]
        }
      ]
    },
    {
      "cell_type": "code",
      "source": [
        "# Q4.Write a code to convert the string \"hello\" to uppercase\n",
        "\n",
        "text = \"hello\"\n",
        "\n",
        "uppercase_text = text.upper()\n",
        "\n",
        "print(uppercase_text)"
      ],
      "metadata": {
        "colab": {
          "base_uri": "https://localhost:8080/"
        },
        "id": "phgX1I-vAD57",
        "outputId": "ef31bc58-6482-48f4-867f-ad6fcc0bba5c"
      },
      "execution_count": null,
      "outputs": [
        {
          "output_type": "stream",
          "name": "stdout",
          "text": [
            "HELLO\n"
          ]
        }
      ]
    },
    {
      "cell_type": "code",
      "source": [
        "# Q5. Write a code to replace the word \"apple\" with \"orange\" in the string \"I like apple\".\n",
        "\n",
        "text = \"I like apple\"\n",
        "new_text = text.replace(\"apple\", \"orange\")\n",
        "\n",
        "print(new_text)"
      ],
      "metadata": {
        "colab": {
          "base_uri": "https://localhost:8080/"
        },
        "id": "ytjbohMtAW1I",
        "outputId": "a9ac1509-9930-4d29-f926-762658c7bf82"
      },
      "execution_count": null,
      "outputs": [
        {
          "output_type": "stream",
          "name": "stdout",
          "text": [
            "I like orange\n"
          ]
        }
      ]
    },
    {
      "cell_type": "code",
      "source": [
        "# Q6.Write a code to create a list with numbers 1 to 5 and print it\n",
        "numbers = [1, 2, 3, 4, 5]\n",
        "\n",
        "print(numbers)"
      ],
      "metadata": {
        "colab": {
          "base_uri": "https://localhost:8080/"
        },
        "id": "rNOVwIv4Ay7I",
        "outputId": "8c3981d3-da63-4a29-99ec-77fee113b0d1"
      },
      "execution_count": null,
      "outputs": [
        {
          "output_type": "stream",
          "name": "stdout",
          "text": [
            "[1, 2, 3, 4, 5]\n"
          ]
        }
      ]
    },
    {
      "cell_type": "code",
      "source": [
        "# Q7.Write a code to append the number 10 to the list [1, 2, 3, 4]\n",
        "\n",
        "numbers = [1, 2, 3, 4]\n",
        "\n",
        "numbers.append(10)\n",
        "\n",
        "print(numbers)"
      ],
      "metadata": {
        "colab": {
          "base_uri": "https://localhost:8080/"
        },
        "id": "P-sPnL49BAry",
        "outputId": "e1ad80dc-d329-4da0-b56a-2b21596a9449"
      },
      "execution_count": null,
      "outputs": [
        {
          "output_type": "stream",
          "name": "stdout",
          "text": [
            "[1, 2, 3, 4, 10]\n"
          ]
        }
      ]
    },
    {
      "cell_type": "code",
      "source": [
        "# Q8. Write a code to remove the number 3 from the list [1, 2, 3, 4, 5].\n",
        "\n",
        "\n",
        "numbers = [1, 2, 3, 4, 5]\n",
        "\n",
        "numbers.remove(3)\n",
        "\n",
        "print(numbers)"
      ],
      "metadata": {
        "colab": {
          "base_uri": "https://localhost:8080/"
        },
        "id": "NL5aJLxlBN-x",
        "outputId": "b7e75850-db29-4cc9-f656-624bb0b995b9"
      },
      "execution_count": null,
      "outputs": [
        {
          "output_type": "stream",
          "name": "stdout",
          "text": [
            "[1, 2, 4, 5]\n"
          ]
        }
      ]
    },
    {
      "cell_type": "code",
      "source": [
        "# Q9. Write a code to access the second element in the list ['a', 'b', 'c', 'd']\n",
        "letters = ['a', 'b', 'c', 'd']\n",
        "\n",
        "second_element = letters[1]\n"
      ],
      "metadata": {
        "id": "zyBTa-M_BmhG"
      },
      "execution_count": null,
      "outputs": []
    },
    {
      "cell_type": "code",
      "source": [
        "# Q10. Write a code to reverse the list [10, 20, 30, 40, 50].\n",
        "numbers = [10, 20, 30, 40, 50]\n",
        "\n",
        "numbers.reverse()\n",
        "\n",
        "print(numbers)"
      ],
      "metadata": {
        "colab": {
          "base_uri": "https://localhost:8080/"
        },
        "id": "1gDkzOsnCAvf",
        "outputId": "ffd261e3-7643-4c89-8759-6005e5242c1b"
      },
      "execution_count": null,
      "outputs": [
        {
          "output_type": "stream",
          "name": "stdout",
          "text": [
            "[50, 40, 30, 20, 10]\n"
          ]
        }
      ]
    },
    {
      "cell_type": "code",
      "source": [
        "# Q11. Write a code to create a tuple with the elements 100, 200, 300 and print it.\n",
        "\n",
        "my_tuple = (100, 200, 300)\n",
        "\n",
        "print(my_tuple)"
      ],
      "metadata": {
        "colab": {
          "base_uri": "https://localhost:8080/"
        },
        "id": "f9VE1XdMSglQ",
        "outputId": "eb237e32-6dd2-4546-cd27-ecd8fe3b77a3"
      },
      "execution_count": null,
      "outputs": [
        {
          "output_type": "stream",
          "name": "stdout",
          "text": [
            "(100, 200, 300)\n"
          ]
        }
      ]
    },
    {
      "cell_type": "code",
      "source": [
        "# Q12. Write a code to access the second-to-last element of the tuple ('red', 'green', 'blue', 'yellow').\n",
        "colors = ('black', 'white', 'gray', 'purple')\n",
        "\n",
        "print(colors[1:])"
      ],
      "metadata": {
        "colab": {
          "base_uri": "https://localhost:8080/"
        },
        "id": "gUSgDagxTB1o",
        "outputId": "1ffb2f3a-4dea-4071-a4d8-e38ceffa788c"
      },
      "execution_count": null,
      "outputs": [
        {
          "output_type": "stream",
          "name": "stdout",
          "text": [
            "('white', 'gray', 'purple')\n"
          ]
        }
      ]
    },
    {
      "cell_type": "code",
      "source": [
        "# Q13. Write a code to find the minimum number in the tuple (10, 20, 5, 15).\n",
        "numbers = (10, 20, 5, 15)\n",
        "\n",
        "print(min(numbers))"
      ],
      "metadata": {
        "colab": {
          "base_uri": "https://localhost:8080/"
        },
        "id": "z6PXHF6NT2CZ",
        "outputId": "37a39fd4-0b08-486c-9e8e-921b091e9550"
      },
      "execution_count": null,
      "outputs": [
        {
          "output_type": "stream",
          "name": "stdout",
          "text": [
            "5\n"
          ]
        }
      ]
    },
    {
      "cell_type": "code",
      "source": [
        "# Q14. Write a code to find the index of the element \"cat\" in the tuple ('dog', 'cat', 'rabbit').\n",
        "fruits = ('dog', 'cat', 'rabbit')\n",
        "\n",
        "print(fruits.index(\"cat\"))"
      ],
      "metadata": {
        "colab": {
          "base_uri": "https://localhost:8080/"
        },
        "id": "GMExwnliUChv",
        "outputId": "019995d9-5651-437b-cc1d-a9334fde4c25"
      },
      "execution_count": null,
      "outputs": [
        {
          "output_type": "stream",
          "name": "stdout",
          "text": [
            "1\n"
          ]
        }
      ]
    },
    {
      "cell_type": "code",
      "source": [
        "# Q15. Write a code to create a tuple containing three different fruits and check if \"kiwi\" is in it.\n",
        "fruits = (\"apple\", \"banana\", \"mango\")\n",
        "\n",
        "print(\"kiwi\" in fruits)"
      ],
      "metadata": {
        "colab": {
          "base_uri": "https://localhost:8080/"
        },
        "id": "El17438iUTz0",
        "outputId": "a8d3c9f3-a8eb-41dd-8749-0402d7459dc0"
      },
      "execution_count": null,
      "outputs": [
        {
          "output_type": "stream",
          "name": "stdout",
          "text": [
            "False\n"
          ]
        }
      ]
    },
    {
      "cell_type": "code",
      "source": [
        "# Q16. Write a code to create a set with the elements 'a', 'b', 'c' and print it\n",
        "my_set = {'a', 'b', 'c'}\n",
        "\n",
        "print(my_set)"
      ],
      "metadata": {
        "colab": {
          "base_uri": "https://localhost:8080/"
        },
        "id": "Kt1GJrYtUvaE",
        "outputId": "c9cffcea-eb88-4e60-c961-0354610efdd7"
      },
      "execution_count": null,
      "outputs": [
        {
          "output_type": "stream",
          "name": "stdout",
          "text": [
            "{'b', 'a', 'c'}\n"
          ]
        }
      ]
    },
    {
      "cell_type": "code",
      "source": [
        "# Q17. Write a code to clear all elements from the set {1, 2, 3, 4, 5}.\n",
        "my_set = {1, 2, 3, 4, 5}\n",
        "\n",
        "my_set.clear()\n",
        "\n",
        "print(my_set)"
      ],
      "metadata": {
        "colab": {
          "base_uri": "https://localhost:8080/"
        },
        "id": "mkPM1qRyU5rQ",
        "outputId": "dc158107-535d-442b-8cae-afe539bb6baa"
      },
      "execution_count": null,
      "outputs": [
        {
          "output_type": "stream",
          "name": "stdout",
          "text": [
            "set()\n"
          ]
        }
      ]
    },
    {
      "cell_type": "code",
      "source": [
        "# Q18. Write a code to remove the element 4 from the set {1, 2, 3, 4}\n",
        "my_set = {1, 2, 3, 4}\n",
        "\n",
        "my_set.remove(4)\n",
        "\n",
        "print(my_set)"
      ],
      "metadata": {
        "colab": {
          "base_uri": "https://localhost:8080/"
        },
        "id": "RFT-Cyq_VKu6",
        "outputId": "0bc6b962-568b-46aa-f6ad-937886123e30"
      },
      "execution_count": null,
      "outputs": [
        {
          "output_type": "stream",
          "name": "stdout",
          "text": [
            "{1, 2, 3}\n"
          ]
        }
      ]
    },
    {
      "cell_type": "code",
      "source": [
        "# Q19. Write a code to find the union of two sets {1, 2, 3} and {3, 4, 5}\n",
        "set1 = {1, 2, 3}\n",
        "set2 = {3, 4, 5}\n",
        "\n",
        "result = set1.union(set2)\n",
        "\n",
        "print(result)\n"
      ],
      "metadata": {
        "colab": {
          "base_uri": "https://localhost:8080/"
        },
        "id": "aw-utJ-JVdK3",
        "outputId": "3f576609-bd52-4af3-c260-34a9ed553fcb"
      },
      "execution_count": null,
      "outputs": [
        {
          "output_type": "stream",
          "name": "stdout",
          "text": [
            "{1, 2, 3, 4, 5}\n"
          ]
        }
      ]
    },
    {
      "cell_type": "code",
      "source": [
        "# Q20. Write a code to find the intersection of two sets {1, 2, 3} and {2, 3, 4}.\n",
        "set1 = {1, 2, 3}\n",
        "set2 = {2, 3, 4}\n",
        "\n",
        "result = set1.intersection(set2)\n",
        "\n",
        "print(result)\n"
      ],
      "metadata": {
        "colab": {
          "base_uri": "https://localhost:8080/"
        },
        "id": "HLBN5YNjVzDo",
        "outputId": "84d86441-3786-4aa1-9630-87ae19eac120"
      },
      "execution_count": null,
      "outputs": [
        {
          "output_type": "stream",
          "name": "stdout",
          "text": [
            "{2, 3}\n"
          ]
        }
      ]
    },
    {
      "cell_type": "code",
      "source": [
        "# Q21. Write a code to create a dictionary with the keys \"name\", \"age\", and \"city\", and print it\n",
        "my_dict = {\n",
        "    \"name\": \"Bakkesh\",\n",
        "    \"age\": 22,\n",
        "    \"city\": \"Mcc, B block,Davangere\"\n",
        "}\n",
        "\n",
        "print(my_dict)\n"
      ],
      "metadata": {
        "colab": {
          "base_uri": "https://localhost:8080/"
        },
        "id": "zqaiSErUWGeU",
        "outputId": "b3f1713e-4dee-4632-ce9f-beade0bafa6f"
      },
      "execution_count": null,
      "outputs": [
        {
          "output_type": "stream",
          "name": "stdout",
          "text": [
            "{'name': 'Bakkesh', 'age': 22, 'city': 'Mcc, B block,Davangere'}\n"
          ]
        }
      ]
    },
    {
      "cell_type": "code",
      "source": [
        "# Q22. Write a code to add a new key-value pair \"country\": \"USA\" to the dictionary {'name': 'John', 'age': 25}\n",
        "\n",
        "# Original dictionary\n",
        "person = {'name': 'John', 'age': 25}\n",
        "\n",
        "# Adding new key-value pair\n",
        "person['country'] = 'USA'\n",
        "\n",
        "# Printing updated dictionary\n",
        "print(person)\n"
      ],
      "metadata": {
        "colab": {
          "base_uri": "https://localhost:8080/"
        },
        "id": "_P83Nk8KWs8i",
        "outputId": "356350d7-d841-47be-8103-ce6348d740ff"
      },
      "execution_count": null,
      "outputs": [
        {
          "output_type": "stream",
          "name": "stdout",
          "text": [
            "{'name': 'John', 'age': 25, 'country': 'USA'}\n"
          ]
        }
      ]
    },
    {
      "cell_type": "code",
      "source": [
        "# Q23. Write a code to access the value associated with the key \"name\" in the dictionary {'name': 'Alice', 'age': 30}.\n",
        "person = {'name': 'Alice', 'age': 30}\n",
        "\n",
        "# Accessing value using key\n",
        "print(person['name'])\n"
      ],
      "metadata": {
        "colab": {
          "base_uri": "https://localhost:8080/"
        },
        "id": "6SyH1lrQXRBz",
        "outputId": "42cee479-3ec9-46d2-b049-191aa8bc198f"
      },
      "execution_count": null,
      "outputs": [
        {
          "output_type": "stream",
          "name": "stdout",
          "text": [
            "Alice\n"
          ]
        }
      ]
    },
    {
      "cell_type": "code",
      "source": [
        "# Q24. Write a code to remove the key \"age\" from the dictionary {'name': 'Bob', 'age': 22, 'city': 'New York'}\n",
        "person = {'name': 'Bob', 'age': 22, 'city': 'New York'}\n",
        "\n",
        "# Removing key 'age'\n",
        "del person['age']\n",
        "\n",
        "print(person)\n"
      ],
      "metadata": {
        "colab": {
          "base_uri": "https://localhost:8080/"
        },
        "id": "pGLbcv-1XoDi",
        "outputId": "543b941f-07a1-4c1e-8ecc-2f7183808a31"
      },
      "execution_count": null,
      "outputs": [
        {
          "output_type": "stream",
          "name": "stdout",
          "text": [
            "{'name': 'Bob', 'city': 'New York'}\n"
          ]
        }
      ]
    },
    {
      "cell_type": "code",
      "source": [
        "# Q25. Write a code to check if the key \"city\" exists in the dictionary {'name': 'Alice', 'city': 'Paris'}.\n",
        "person = {'name': 'Alice', 'city': 'Paris'}\n",
        "\n",
        "# Check if 'city' key exists\n",
        "print('city' in person)\n"
      ],
      "metadata": {
        "colab": {
          "base_uri": "https://localhost:8080/"
        },
        "id": "Dc-7E7obX9cN",
        "outputId": "e9648664-9020-4744-f117-063de46ebdc2"
      },
      "execution_count": null,
      "outputs": [
        {
          "output_type": "stream",
          "name": "stdout",
          "text": [
            "True\n"
          ]
        }
      ]
    },
    {
      "cell_type": "code",
      "source": [
        "# Q26 Write a code to create a list, a tuple, and a dictionary, and print them all.\n",
        "\n",
        "# Creating a list\n",
        "my_list = [1, 2, 3]\n",
        "\n",
        "# Creating a tuple\n",
        "my_tuple = (4, 5, 6)\n",
        "\n",
        "# Creating a dictionary\n",
        "my_dict = {'name': 'Alice', 'age': 25}\n",
        "\n",
        "# Printing all\n",
        "print(\"List:\", my_list)\n",
        "print(\"Tuple:\", my_tuple)\n",
        "print(\"Dictionary:\", my_dict)\n"
      ],
      "metadata": {
        "colab": {
          "base_uri": "https://localhost:8080/"
        },
        "id": "EON2voySYRWb",
        "outputId": "e727d281-8528-4519-9151-513103f94c5b"
      },
      "execution_count": null,
      "outputs": [
        {
          "output_type": "stream",
          "name": "stdout",
          "text": [
            "List: [1, 2, 3]\n",
            "Tuple: (4, 5, 6)\n",
            "Dictionary: {'name': 'Alice', 'age': 25}\n"
          ]
        }
      ]
    },
    {
      "cell_type": "code",
      "source": [
        "# Q27. Write a code to create a list of 5 random numbers between 1 and 100, sort it in ascending order, and print the result.(replaced)\n",
        "\n",
        "import random\n",
        "\n",
        "# Create a list of 5 random numbers between 1 and 100\n",
        "random_numbers = [random.randint(1, 100) for _ in range(5)]\n",
        "\n",
        "# Sort the list in ascending order\n",
        "random_numbers.sort()\n",
        "\n",
        "# Print the sorted list\n",
        "print(random_numbers)\n"
      ],
      "metadata": {
        "colab": {
          "base_uri": "https://localhost:8080/"
        },
        "id": "Dwp39_39YnYn",
        "outputId": "b739d197-dc17-4876-e83c-e37072ac4ce8"
      },
      "execution_count": null,
      "outputs": [
        {
          "output_type": "stream",
          "name": "stdout",
          "text": [
            "[40, 57, 63, 66, 77]\n"
          ]
        }
      ]
    },
    {
      "cell_type": "code",
      "source": [
        "# Q28. Write a code to create a list with strings and print the element at the third index.\n",
        "\n",
        "# Creating a list of strings\n",
        "fruits = [\"apple\", \"banana\", \"cherry\", \"orange\", \"mango\"]\n",
        "\n",
        "# Accessing the element at the third index\n",
        "print(fruits[3])\n"
      ],
      "metadata": {
        "colab": {
          "base_uri": "https://localhost:8080/"
        },
        "id": "M_J2BumZZFTn",
        "outputId": "8858cf12-2b80-427f-b4e9-32f7728caa95"
      },
      "execution_count": null,
      "outputs": [
        {
          "output_type": "stream",
          "name": "stdout",
          "text": [
            "orange\n"
          ]
        }
      ]
    },
    {
      "cell_type": "code",
      "source": [
        "# Q29.Write a code to combine two dictionaries into one and print the result\n",
        "dict1 = {'a': 1, 'b': 2}\n",
        "dict2 = {'c': 3, 'd': 4}\n",
        "\n",
        "# Merge dict2 into dict1\n",
        "dict1.update(dict2)\n",
        "\n",
        "print(dict1)\n"
      ],
      "metadata": {
        "colab": {
          "base_uri": "https://localhost:8080/"
        },
        "id": "U-OIfRTwZXLm",
        "outputId": "d3ac5c3f-1c07-40ee-f467-780e6d8ae5c5"
      },
      "execution_count": null,
      "outputs": [
        {
          "output_type": "stream",
          "name": "stdout",
          "text": [
            "{'a': 1, 'b': 2, 'c': 3, 'd': 4}\n"
          ]
        }
      ]
    },
    {
      "cell_type": "code",
      "source": [
        "# Q30. Write a code to convert a list of strings into a set\n",
        "\n",
        "# List of strings\n",
        "fruits_list = [\"apple\", \"banana\", \"apple\", \"orange\", \"banana\"]\n",
        "\n",
        "# Convert list to set\n",
        "fruits_set = set(fruits_list)\n",
        "\n",
        "print(fruits_set)\n"
      ],
      "metadata": {
        "colab": {
          "base_uri": "https://localhost:8080/"
        },
        "id": "Ax_turzGZ1zO",
        "outputId": "2e68dc3c-f1c3-4148-b861-a8bdacc10851"
      },
      "execution_count": null,
      "outputs": [
        {
          "output_type": "stream",
          "name": "stdout",
          "text": [
            "{'orange', 'banana', 'apple'}\n"
          ]
        }
      ]
    }
  ]
}